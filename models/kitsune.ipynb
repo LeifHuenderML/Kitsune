{
 "cells": [
  {
   "cell_type": "code",
   "execution_count": null,
   "metadata": {},
   "outputs": [],
   "source": [
    "\"\"\"\n",
    " * @file kitsune.ipynb\n",
    " * @author Leif Huender\n",
    " * @brief \n",
    " * @version 0.1\n",
    " * @date 2024-01-07\n",
    " * \n",
    " * @copyright Copyright (c) 2024 Leif Huender\n",
    " * Permission is hereby granted, free of charge, to any person obtaining a copy\n",
    " * of this software and associated documentation files (the \"Software\"), to deal\n",
    " * in the Software without restriction, including without limitation the rights\n",
    " * to use, copy, modify, merge, publish, distribute, sublicense, and/or sell\n",
    " * copies of the Software, and to permit persons to whom the Software is\n",
    " * furnished to do so, subject to the following conditions:\n",
    " * \n",
    " * The above copyright notice and this permission notice shall be included in\n",
    " * all copies or substantial portions of the Software.\n",
    " * \n",
    " * THE SOFTWARE IS PROVIDED \"AS IS\", WITHOUT WARRANTY OF ANY KIND, EXPRESS OR\n",
    " * IMPLIED, INCLUDING BUT NOT LIMITED TO THE WARRANTIES OF MERCHANTABILITY,\n",
    " * FITNESS FOR A PARTICULAR PURPOSE AND NONINFRINGEMENT. IN NO EVENT SHALL THE\n",
    " * AUTHORS OR COPYRIGHT HOLDERS BE LIABLE FOR ANY CLAIM, DAMAGES OR OTHER\n",
    " * LIABILITY, WHETHER IN AN ACTION OF CONTRACT, TORT OR OTHERWISE, ARISING FROM,\n",
    " * OUT OF OR IN CONNECTION WITH THE SOFTWARE OR THE USE OR OTHER DEALINGS IN\n",
    " * THE SOFTWARE.\n",
    "\"\"\""
   ]
  },
  {
   "cell_type": "code",
   "execution_count": 2,
   "id": "69001296",
   "metadata": {},
   "outputs": [
    {
     "name": "stdout",
     "output_type": "stream",
     "text": [
      "All libraries successfully imported\n"
     ]
    }
   ],
   "source": [
    "import torch\n",
    "import torch.nn as nn\n",
    "import torch.nn.functional as F\n",
    "\n",
    "print(\"All libraries successfully imported\")"
   ]
  },
  {
   "cell_type": "code",
   "execution_count": 4,
   "id": "2e44082b",
   "metadata": {},
   "outputs": [
    {
     "name": "stdout",
     "output_type": "stream",
     "text": [
      "MPS is available: True\n",
      "CUDA is available: False\n"
     ]
    }
   ],
   "source": [
    "print(f'MPS is available: {torch.backends.mps.is_available()}')\n",
    "print(f'CUDA is available: {torch.cuda.is_available()}')"
   ]
  },
  {
   "cell_type": "code",
   "execution_count": 8,
   "id": "65735012",
   "metadata": {},
   "outputs": [],
   "source": [
    "class ConvBlock(nn.Module):\n",
    "    def __init__(self, in_channels, out_channels, kernel_size, stride, padding=1):\n",
    "        super(ConvBlock, self).__init__()\n",
    "        self.conv = nn.Conv2d(in_channels, out_channels, kernel_size, stride, padding)\n",
    "        self.bn = nn.BatchNorm2d(out_channels)\n",
    "    def forward(self, x):\n",
    "        return F.relu(self.bn(self.conv(x)))\n",
    "    \n",
    "class ResBlock(nn.Module):\n",
    "    def __init__(self, channels, kernel_size, stride):\n",
    "        super(ResBlock, self).__init__()\n",
    "        self.conv1 = ConvBlock(channels, channels, kernel_size, stride)\n",
    "        self.conv2 = ConvBlock(channels, channels, kernel_size, stride)\n",
    "\n",
    "    def forward(self,x):\n",
    "        residual = x\n",
    "        out = self.conv1(x)\n",
    "        out = self.conv2(out)\n",
    "        out += residual\n",
    "        return F.relu(out)\n",
    "    \n",
    "class ResTower(nn.Module):\n",
    "    def __init__(self, in_channels, out_channels, kernel_size, stride, res_block_channels ,num_blocks):\n",
    "        super(ResTower, self).__init__()\n",
    "        self.initial_conv = ConvBlock(in_channels, out_channels, kernel_size, stride)\n",
    "        self.res_blocks = nn.Sequential(*[ResBlock(res_block_channels, kernel_size, stride) for i in range(num_blocks)])\n",
    "    def forward(self, x):\n",
    "        x = self.initial_conv(x)\n",
    "        x = self.res_blocks(x)\n",
    "        return x"
   ]
  },
  {
   "cell_type": "code",
   "execution_count": 13,
   "id": "cb4246ce",
   "metadata": {},
   "outputs": [],
   "source": [
    "n_res_blocks = 39 # 19 or 39 to match alpha zero\n",
    "model = ResTower(in_channels=256, out_channels=256, kernel_size=3, stride=3, res_block_channels=256, num_blocks=n_res_blocks)"
   ]
  },
  {
   "cell_type": "code",
   "execution_count": 14,
   "id": "5eeaf6df",
   "metadata": {},
   "outputs": [
    {
     "name": "stdout",
     "output_type": "stream",
     "text": [
      "Total number of parameters: 46656768\n"
     ]
    }
   ],
   "source": [
    "total_params = sum(param.numel() for param in model.parameters())\n",
    "print(f\"Total number of parameters: {total_params}\")\n"
   ]
  },
  {
   "cell_type": "code",
   "execution_count": null,
   "id": "2ac50d29",
   "metadata": {},
   "outputs": [],
   "source": []
  },
  {
   "cell_type": "code",
   "execution_count": null,
   "id": "25166022",
   "metadata": {},
   "outputs": [],
   "source": []
  }
 ],
 "metadata": {
  "kernelspec": {
   "display_name": "kitsune",
   "language": "python",
   "name": "python3"
  },
  "language_info": {
   "codemirror_mode": {
    "name": "ipython",
    "version": 3
   },
   "file_extension": ".py",
   "mimetype": "text/x-python",
   "name": "python",
   "nbconvert_exporter": "python",
   "pygments_lexer": "ipython3",
   "version": "3.8.18"
  }
 },
 "nbformat": 4,
 "nbformat_minor": 5
}
